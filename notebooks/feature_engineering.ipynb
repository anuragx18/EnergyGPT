{
 "cells": [
  {
   "cell_type": "code",
   "execution_count": 1,
   "metadata": {},
   "outputs": [
    {
     "name": "stdout",
     "output_type": "stream",
     "text": [
      "             DateTime  KWH_per_half_hour\n",
      "0 2013-08-06 07:00:00              0.046\n",
      "1 2013-08-06 07:30:00              0.040\n",
      "2 2013-08-06 08:00:00              0.016\n",
      "3 2013-08-06 08:30:00              0.018\n",
      "4 2013-08-06 09:00:00              0.016\n"
     ]
    }
   ],
   "source": [
    "import pandas as pd\n",
    "\n",
    "# Load cleaned dataset\n",
    "df_clean = pd.read_csv(\"cleaned_energy_data.csv\", parse_dates=[\"DateTime\"])\n",
    "\n",
    "print(df_clean.head())  # Verify loaded data\n"
   ]
  },
  {
   "cell_type": "code",
   "execution_count": 2,
   "metadata": {},
   "outputs": [
    {
     "name": "stdout",
     "output_type": "stream",
     "text": [
      "             DateTime  KWH_per_half_hour  Year  Month  Day  Hour  Weekday  \\\n",
      "0 2013-08-06 07:00:00              0.046  2013      8    6     7        1   \n",
      "1 2013-08-06 07:30:00              0.040  2013      8    6     7        1   \n",
      "2 2013-08-06 08:00:00              0.016  2013      8    6     8        1   \n",
      "3 2013-08-06 08:30:00              0.018  2013      8    6     8        1   \n",
      "4 2013-08-06 09:00:00              0.016  2013      8    6     9        1   \n",
      "\n",
      "   Is_Weekend  \n",
      "0           0  \n",
      "1           0  \n",
      "2           0  \n",
      "3           0  \n",
      "4           0  \n"
     ]
    }
   ],
   "source": [
    "# Ensure DateTime is in datetime format\n",
    "df_clean[\"DateTime\"] = pd.to_datetime(df_clean[\"DateTime\"])\n",
    "\n",
    "# Extracting time-based features\n",
    "df_clean[\"Year\"] = df_clean[\"DateTime\"].dt.year\n",
    "df_clean[\"Month\"] = df_clean[\"DateTime\"].dt.month\n",
    "df_clean[\"Day\"] = df_clean[\"DateTime\"].dt.day\n",
    "df_clean[\"Hour\"] = df_clean[\"DateTime\"].dt.hour\n",
    "df_clean[\"Weekday\"] = df_clean[\"DateTime\"].dt.weekday  # Monday = 0, Sunday = 6\n",
    "df_clean[\"Is_Weekend\"] = (df_clean[\"Weekday\"] >= 5).astype(int)  # 1 if weekend, 0 otherwise\n",
    "\n",
    "print(df_clean.head())  # Verify the new columns\n"
   ]
  },
  {
   "cell_type": "code",
   "execution_count": 3,
   "metadata": {},
   "outputs": [
    {
     "name": "stdout",
     "output_type": "stream",
     "text": [
      "    DateTime  Total_Daily_Consumption\n",
      "0 2012-05-23                  151.445\n",
      "1 2012-05-24                  318.207\n",
      "2 2012-05-25                  339.757\n",
      "3 2012-05-26                  327.922\n",
      "4 2012-05-27                  330.343\n"
     ]
    }
   ],
   "source": [
    "df_daily = df_clean.resample(\"D\", on=\"DateTime\")[\"KWH_per_half_hour\"].sum().reset_index()\n",
    "df_daily.rename(columns={\"KWH_per_half_hour\": \"Total_Daily_Consumption\"}, inplace=True)\n",
    "print(df_daily.head())  # Verify daily data\n"
   ]
  },
  {
   "cell_type": "code",
   "execution_count": 5,
   "metadata": {},
   "outputs": [
    {
     "name": "stdout",
     "output_type": "stream",
     "text": [
      "             DateTime  Total_Hourly_Consumption\n",
      "0 2012-05-23 10:00:00                     0.382\n",
      "1 2012-05-23 11:00:00                     2.713\n",
      "2 2012-05-23 12:00:00                     6.171\n",
      "3 2012-05-23 13:00:00                     8.620\n",
      "4 2012-05-23 14:00:00                     9.555\n"
     ]
    }
   ],
   "source": [
    "df_hourly = df_clean.resample(\"h\", on=\"DateTime\")[\"KWH_per_half_hour\"].sum().reset_index()\n",
    "df_hourly.rename(columns={\"KWH_per_half_hour\": \"Total_Hourly_Consumption\"}, inplace=True)\n",
    "print(df_hourly.head())  # Verify hourly data\n"
   ]
  },
  {
   "cell_type": "code",
   "execution_count": 6,
   "metadata": {},
   "outputs": [],
   "source": [
    "df_clean.to_csv(\"feature_engineered_data.csv\", index=False)\n",
    "df_daily.to_csv(\"daily_energy_data.csv\", index=False)\n",
    "df_hourly.to_csv(\"hourly_energy_data.csv\", index=False)\n"
   ]
  },
  {
   "cell_type": "code",
   "execution_count": null,
   "metadata": {},
   "outputs": [],
   "source": []
  }
 ],
 "metadata": {
  "kernelspec": {
   "display_name": "venv",
   "language": "python",
   "name": "python3"
  },
  "language_info": {
   "codemirror_mode": {
    "name": "ipython",
    "version": 3
   },
   "file_extension": ".py",
   "mimetype": "text/x-python",
   "name": "python",
   "nbconvert_exporter": "python",
   "pygments_lexer": "ipython3",
   "version": "3.12.4"
  }
 },
 "nbformat": 4,
 "nbformat_minor": 2
}
